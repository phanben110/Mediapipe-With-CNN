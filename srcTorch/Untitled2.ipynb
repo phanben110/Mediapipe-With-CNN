{
 "cells": [
  {
   "cell_type": "code",
   "execution_count": 15,
   "id": "977d2bba",
   "metadata": {},
   "outputs": [],
   "source": [
    "import os\n",
    "import random\n",
    "import matplotlib.pyplot as plt\n",
    "import torch.nn as nn\n",
    "from torch.utils.data import DataLoader\n",
    "from torch.utils.data import Dataset\n",
    "import torchvision.transforms as transforms\n",
    "import torchvision\n",
    "import torch\n",
    "import cv2\n",
    "import pandas as pd\n",
    "import time\n",
    "\n",
    "from BEN_processingData import imageDataset\n",
    "from BEN_processingData import processingDataset\n",
    "\n",
    "import BEN_modelCNN as model\n",
    "\n",
    "device = torch.device(\"cuda\" if torch.cuda.is_available() else \"cpu\")\n",
    "\n",
    "rootDir = './../data/raw/'\n",
    "\n",
    "# hyper parameters\n",
    "inChannel = 1\n",
    "numClasses = 7\n",
    "learningRate = 0.001\n",
    "batchSize = 100\n",
    "numEpochs = 6\n",
    "\n",
    "\n",
    "import itertools\n",
    "import numpy as np\n",
    "import matplotlib.pyplot as plt\n"
   ]
  },
  {
   "cell_type": "code",
   "execution_count": 16,
   "id": "8e4cc232",
   "metadata": {},
   "outputs": [],
   "source": [
    "import itertools\n",
    "import numpy as np\n",
    "import matplotlib.pyplot as plt\n",
    "\n",
    "def plot_confusion_matrix(cm, classes, normalize=False, title='Confusion matrix', cmap=plt.cm.Blues):\n",
    "    if normalize:\n",
    "        cm = cm.astype('float') / cm.sum(axis=1)[:, np.newaxis]\n",
    "        print(\"Normalized confusion matrix\")\n",
    "    else:\n",
    "        print('Confusion matrix, without normalization')\n",
    " \n",
    " \n",
    "    print(cm)\n",
    "    plt.imshow(cm, interpolation='nearest', cmap=cmap)\n",
    "    plt.title(title)\n",
    "    plt.colorbar()\n",
    "    tick_marks = np.arange(len(classes))\n",
    "    plt.xticks(tick_marks, classes, rotation=45)\n",
    "    plt.yticks(tick_marks, classes)\n",
    " \n",
    " \n",
    "    fmt = '.2f' if normalize else 'd'\n",
    "    thresh = cm.max() / 2.\n",
    "    for i, j in itertools.product(range(cm.shape[0]), range(cm.shape[1])):\n",
    "        plt.text(j, i, format(cm[i, j], fmt), horizontalalignment=\"center\", color=\"white\" if cm[i, j] > thresh else \"black\")\n",
    " \n",
    " \n",
    "    plt.tight_layout()\n",
    "    plt.ylabel('True label')\n",
    "    plt.xlabel('Predicted label')"
   ]
  },
  {
   "cell_type": "code",
   "execution_count": 17,
   "id": "db6210f5",
   "metadata": {},
   "outputs": [],
   "source": [
    "dataTransform = transforms.Compose([\n",
    "    transforms.ToPILImage(),\n",
    "    transforms.Resize(26),\n",
    "    transforms.ToTensor()\n",
    "    ])\n",
    "\n",
    "\n",
    "data = processingDataset( rootDir )\n",
    "df = data.makeData ( draw = False  )\n",
    "\n",
    "#Load data\n",
    "\n",
    "dataset =imageDataset( df = df , rootDir = rootDir , transform = dataTransform )\n",
    "lenDataset = len (dataset)\n",
    "#split dataset to train and valid\n",
    "lenTrain = int (lenDataset*0.75)\n",
    "lenValid = lenDataset - lenTrain\n",
    "trainset , validset = torch.utils.data.random_split(dataset, [lenTrain,lenValid])\n",
    "trainLoader = DataLoader(dataset=trainset , batch_size=batchSize, shuffle=True) # shuffle is mean is mix \n",
    "testLoader = DataLoader(dataset=validset)\n",
    "\n",
    "model = model.CNN( numClasses ).to(device)\n",
    "\n",
    "# Loss and optimizer\n",
    "criterion = nn.CrossEntropyLoss()\n",
    "optimizer = torch.optim.Adam(model.parameters(), lr=learningRate)\n",
    "\n",
    "# Train the model\n",
    "totalStep = len(trainLoader)\n",
    "Ptime = time.time()\n",
    "beginTime = time.time()\n"
   ]
  },
  {
   "cell_type": "code",
   "execution_count": 19,
   "id": "d743313b",
   "metadata": {},
   "outputs": [
    {
     "name": "stdout",
     "output_type": "stream",
     "text": [
      "Epoch [1/6], Step [100/173], Loss: 0.0422, time: 26.54 s\n",
      "Epoch [2/6], Step [100/173], Loss: 0.0069, time: 11.39 s\n",
      "Epoch [3/6], Step [100/173], Loss: 0.0020, time: 11.41 s\n",
      "Epoch [4/6], Step [100/173], Loss: 0.0036, time: 11.44 s\n",
      "Epoch [5/6], Step [100/173], Loss: 0.0007, time: 12.44 s\n",
      "Epoch [6/6], Step [100/173], Loss: 0.0044, time: 12.33 s\n"
     ]
    }
   ],
   "source": [
    "\n",
    "for epoch in range(numEpochs):\n",
    "    for i, (images, labels) in enumerate(trainLoader):\n",
    "        images = images.to(device)\n",
    "        labels = labels.to(device)\n",
    "        #print ( labels.shape)\n",
    "\n",
    "        # Forward pass\n",
    "        #print ( f\"shape image {images.shape} and label shape {labels.shape} \")\n",
    "        #print ( labels )\n",
    "        outputs = model(images)\n",
    "        loss = criterion(outputs, labels)\n",
    "\n",
    "        # Backward and optimize\n",
    "        optimizer.zero_grad()\n",
    "        loss.backward()\n",
    "        optimizer.step()\n",
    "        sec = (time.time() - Ptime)\n",
    "        if (i+1) % 100 == 0:\n",
    "\n",
    "            print ('Epoch [{}/{}], Step [{}/{}], Loss: {:.4f}, time: {:.2f} s'\n",
    "                   .format(epoch+1, numEpochs, i+1, totalStep, loss.item(), sec))\n",
    "            Ptime = time.time()\n"
   ]
  },
  {
   "cell_type": "code",
   "execution_count": 20,
   "id": "0f81c8f9",
   "metadata": {},
   "outputs": [
    {
     "name": "stdout",
     "output_type": "stream",
     "text": [
      "Test Accuracy of the model on the 10000 test images: 99.84323288625674 %\n",
      "training Done , total time during training is: 0.027 h \n"
     ]
    }
   ],
   "source": [
    "# Test the model\n",
    "model.eval()  # eval mode (batchnorm uses moving mean/variance instead of mini-batch mean/variance)\n",
    "with torch.no_grad():\n",
    "    correct = 0\n",
    "    total = 0\n",
    "    for images, labels in testLoader:\n",
    "        images = images.to(device)\n",
    "        labels = labels.to(device)\n",
    "        outputs = model(images)\n",
    "        _, predicted = torch.max(outputs.data, 1)\n",
    "        total += labels.size(0)\n",
    "        correct += (predicted == labels).sum().item()\n",
    "\n",
    "\n",
    "    print('Test Accuracy of the model on the 10000 test images: {} %'.format(100 * correct / total))\n",
    "\n",
    "# Save the model checkpoint\n",
    "torch.save(model.state_dict(), './../modelPytorch/model1.pt')\n",
    "hour = ( time.time()  - beginTime ) / (60*60)\n",
    "\n",
    "print (\"training Done , total time during training is: {:.3f} h \".format(hour) )\n",
    "\n",
    "\n",
    "from sklearn.metrics import confusion_matrix\n",
    "\n",
    "nb_classes = 7\n",
    "\n",
    "# Initialize the prediction and label lists(tensors)\n",
    "predlist=torch.zeros(0,dtype=torch.long, device='cpu')\n",
    "lbllist=torch.zeros(0,dtype=torch.long, device='cpu')\n",
    "\n",
    "# that is print confusion matrix \n",
    "\n"
   ]
  },
  {
   "cell_type": "code",
   "execution_count": 22,
   "id": "1e62043d",
   "metadata": {},
   "outputs": [
    {
     "name": "stdout",
     "output_type": "stream",
     "text": [
      "[[1009    1    0    0    0    3    0]\n",
      " [   0  594    1    1    0    0    0]\n",
      " [   0    0  294    0    0    0    0]\n",
      " [   0    0    0  849    0    0    0]\n",
      " [   1    1    0    0  643    0    0]\n",
      " [   0    0    0    0    1 1217    0]\n",
      " [   0    0    0    0    0    0 1126]]\n",
      "[ 99.60513327  99.66442953 100.         100.          99.68992248\n",
      "  99.91789819 100.        ]\n"
     ]
    },
    {
     "data": {
      "text/plain": [
       "<Figure size 504x504 with 0 Axes>"
      ]
     },
     "execution_count": 22,
     "metadata": {},
     "output_type": "execute_result"
    },
    {
     "data": {
      "text/plain": [
       "<Figure size 504x504 with 0 Axes>"
      ]
     },
     "metadata": {},
     "output_type": "display_data"
    }
   ],
   "source": [
    "with torch.no_grad():\n",
    "    for i, (inputs, classes) in enumerate(testLoader):\n",
    "        inputs = inputs.to(device)\n",
    "        classes = classes.to(device)\n",
    "        outputs = model(inputs)\n",
    "        _, preds = torch.max(outputs, 1)\n",
    "\n",
    "        # Append batch prediction results\n",
    "        predlist=torch.cat([predlist,preds.view(-1).cpu()])\n",
    "        lbllist=torch.cat([lbllist,classes.view(-1).cpu()])\n",
    "\n",
    "# Confusion matrix\n",
    "conf_mat=confusion_matrix(lbllist.numpy(), predlist.numpy())\n",
    "print(conf_mat)\n",
    "\n",
    "# Per-class accuracy\n",
    "class_accuracy=100*conf_mat.diagonal()/conf_mat.sum(1)\n",
    "print(class_accuracy)\n",
    "\n",
    "plt.figure(figsize=(7,7))\n",
    "\n",
    "#plot_confusion_matrix(conf_mat , testLoader.)\n"
   ]
  },
  {
   "cell_type": "code",
   "execution_count": 26,
   "id": "d7d2cc89",
   "metadata": {},
   "outputs": [
    {
     "name": "stdout",
     "output_type": "stream",
     "text": [
      "Confusion matrix, without normalization\n",
      "[[1009    1    0    0    0    3    0]\n",
      " [   0  594    1    1    0    0    0]\n",
      " [   0    0  294    0    0    0    0]\n",
      " [   0    0    0  849    0    0    0]\n",
      " [   1    1    0    0  643    0    0]\n",
      " [   0    0    0    0    1 1217    0]\n",
      " [   0    0    0    0    0    0 1126]]\n"
     ]
    },
    {
     "data": {
      "text/plain": [
       "<function matplotlib.pyplot.imshow(X, cmap=None, norm=None, aspect=None, interpolation=None, alpha=None, vmin=None, vmax=None, origin=None, extent=None, *, filternorm=True, filterrad=4.0, resample=None, url=None, data=None, **kwargs)>"
      ]
     },
     "execution_count": 26,
     "metadata": {},
     "output_type": "execute_result"
    },
    {
     "data": {
      "image/png": "[encoded data removed]",
      "text/plain": [
       "<Figure size 432x288 with 2 Axes>"
      ]
     },
     "metadata": {
      "needs_background": "light"
     },
     "output_type": "display_data"
    }
   ],
   "source": [
    "plot_confusion_matrix(conf_mat , ['Ok', 'Silent', 'Dislike', 'Like', 'Hi', 'Hello', 'Stop'])\n",
    "plt.imshow"
   ]
  },
  {
   "cell_type": "code",
   "execution_count": null,
   "id": "aba17069",
   "metadata": {},
   "outputs": [],
   "source": []
  },
  {
   "cell_type": "code",
   "execution_count": null,
   "id": "e0ccb174",
   "metadata": {},
   "outputs": [],
   "source": []
  },
  {
   "cell_type": "code",
   "execution_count": null,
   "id": "b3163b50",
   "metadata": {},
   "outputs": [],
   "source": []
  },
  {
   "cell_type": "code",
   "execution_count": null,
   "id": "9e25f51f",
   "metadata": {},
   "outputs": [],
   "source": []
  }
 ],
 "metadata": {
  "kernelspec": {
   "display_name": "Python 3",
   "language": "python",
   "name": "python3"
  },
  "language_info": {
   "codemirror_mode": {
    "name": "ipython",
    "version": 3
   },
   "file_extension": ".py",
   "mimetype": "text/x-python",
   "name": "python",
   "nbconvert_exporter": "python",
   "pygments_lexer": "ipython3",
   "version": "3.7.6"
  }
 },
 "nbformat": 4,
 "nbformat_minor": 5
}
